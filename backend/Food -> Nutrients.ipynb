{
 "cells": [
  {
   "cell_type": "code",
   "execution_count": 6,
   "metadata": {
    "collapsed": true,
    "deletable": true,
    "editable": true
   },
   "outputs": [],
   "source": [
    "from bs4 import BeautifulSoup\n",
    "from selenium import webdriver\n",
    "from selenium.webdriver.chrome.options import Options"
   ]
  },
  {
   "cell_type": "markdown",
   "metadata": {},
   "source": [
    "# Food -> Nutrients"
   ]
  },
  {
   "cell_type": "markdown",
   "metadata": {},
   "source": [
    "The item to look up in the USDA archive"
   ]
  },
  {
   "cell_type": "code",
   "execution_count": 87,
   "metadata": {
    "collapsed": true
   },
   "outputs": [],
   "source": [
    "lookup = 'ORGANIC VALLEY LOWFAT MILK'\n",
    "nutrient = 'Vitamin A'"
   ]
  },
  {
   "cell_type": "markdown",
   "metadata": {},
   "source": [
    "Translate into query url"
   ]
  },
  {
   "cell_type": "code",
   "execution_count": 88,
   "metadata": {
    "collapsed": false,
    "deletable": true,
    "editable": true
   },
   "outputs": [],
   "source": [
    "# the query url\n",
    "query_url = 'https://ndb.nal.usda.gov/ndb/search/list?SYNCHRONIZER_TOKEN=22d50fc9-d900-4447-afa8-cda5f67ea1e5&SYNCHRONIZER_URI=%2Fndb%2Fsearch%2Flist&qt=&qlookup={}&ds=&manu='.format(lookup)"
   ]
  },
  {
   "cell_type": "markdown",
   "metadata": {},
   "source": [
    "Extract the NBD id of the best hit of the query"
   ]
  },
  {
   "cell_type": "code",
   "execution_count": 92,
   "metadata": {
    "collapsed": false,
    "deletable": true,
    "editable": true
   },
   "outputs": [],
   "source": [
    "# open Selenium webdriver in headless mode\n",
    "chrome_options = Options()\n",
    "chrome_options.add_argument(\"headless\")\n",
    "driver = webdriver.Chrome(chrome_options=chrome_options)\n",
    "\n",
    "# go to the page\n",
    "driver.get(query_url)\n",
    "\n",
    "# find the first nbd_id in the query\n",
    "nbd_id = driver.find_element_by_xpath('//*[@id=\"quickform\"]/div[4]/table/tbody/tr[1]/td[2]/a').text"
   ]
  },
  {
   "cell_type": "markdown",
   "metadata": {
    "collapsed": false,
    "deletable": true,
    "editable": true
   },
   "source": [
    "Use the NBD id to get the full nutrient report from the USDA website"
   ]
  },
  {
   "cell_type": "code",
   "execution_count": 100,
   "metadata": {
    "collapsed": false,
    "deletable": true,
    "editable": true
   },
   "outputs": [
    {
     "name": "stdout",
     "output_type": "stream",
     "text": [
      "https://api.nal.usda.gov/ndb/reports/?ndbno=45135747&type=f&format=json&api_key=2RKrTS6ad7iBE5RapN91xfUguREfFsebWNnDer1X\n"
     ]
    }
   ],
   "source": [
    "import json\n",
    "api_url = \"https://api.nal.usda.gov/ndb/reports/?ndbno={}&type=f&format=json&api_key=2RKrTS6ad7iBE5RapN91xfUguREfFsebWNnDer1X\".format(nbd_id)\n",
    "print(api_url)\n",
    "# submit query\n",
    "driver.get(api_url)\n",
    "\n",
    "# get the response\n",
    "soup = BeautifulSoup(driver.page_source, \"lxml\")\n",
    "json_response = json.loads(soup.find(\"body\").text)"
   ]
  },
  {
   "cell_type": "code",
   "execution_count": 101,
   "metadata": {
    "code_folding": [],
    "collapsed": false
   },
   "outputs": [
    {
     "name": "stdout",
     "output_type": "stream",
     "text": [
      "42\n",
      "The nutrient is present.\n",
      "CPU times: user 512 µs, sys: 380 µs, total: 892 µs\n",
      "Wall time: 586 µs\n"
     ]
    }
   ],
   "source": [
    "%%time\n",
    "for ntr in json_response['report']['food']['nutrients']:\n",
    "    if nutrient in ntr['name']:\n",
    "        print(ntr['value'])\n",
    "        if float(ntr['value']) > 0:\n",
    "            print('The nutrient is present.')\n",
    "        else:\n",
    "            print('The nutrient is absent.')"
   ]
  },
  {
   "cell_type": "code",
   "execution_count": null,
   "metadata": {
    "collapsed": true
   },
   "outputs": [],
   "source": []
  }
 ],
 "metadata": {
  "kernelspec": {
   "display_name": "Python 3",
   "language": "python",
   "name": "python3"
  },
  "language_info": {
   "codemirror_mode": {
    "name": "ipython",
    "version": 3
   },
   "file_extension": ".py",
   "mimetype": "text/x-python",
   "name": "python",
   "nbconvert_exporter": "python",
   "pygments_lexer": "ipython3",
   "version": "3.5.2"
  },
  "varInspector": {
   "cols": {
    "lenName": 16,
    "lenType": 16,
    "lenVar": 40
   },
   "kernels_config": {
    "python": {
     "delete_cmd_postfix": "",
     "delete_cmd_prefix": "del ",
     "library": "var_list.py",
     "varRefreshCmd": "print(var_dic_list())"
    },
    "r": {
     "delete_cmd_postfix": ") ",
     "delete_cmd_prefix": "rm(",
     "library": "var_list.r",
     "varRefreshCmd": "cat(var_dic_list()) "
    }
   },
   "types_to_exclude": [
    "module",
    "function",
    "builtin_function_or_method",
    "instance",
    "_Feature"
   ],
   "window_display": false
  }
 },
 "nbformat": 4,
 "nbformat_minor": 2
}
