{
 "cells": [
  {
   "cell_type": "code",
   "execution_count": 34,
   "metadata": {
    "collapsed": true,
    "deletable": true,
    "editable": true
   },
   "outputs": [],
   "source": [
    "from bs4 import BeautifulSoup\n",
    "from selenium import webdriver\n",
    "from selenium.webdriver.chrome.options import Options"
   ]
  },
  {
   "cell_type": "markdown",
   "metadata": {
    "deletable": true,
    "editable": true
   },
   "source": [
    "# Food -> Nutrients"
   ]
  },
  {
   "cell_type": "markdown",
   "metadata": {
    "deletable": true,
    "editable": true
   },
   "source": [
    "The item to look up in the USDA archive"
   ]
  },
  {
   "cell_type": "code",
   "execution_count": 41,
   "metadata": {
    "collapsed": true,
    "deletable": true,
    "editable": true
   },
   "outputs": [],
   "source": [
    "amazon_url = 'https://www.amazon.com/Organic-Valley-Boxes-Chocolate-Ounces/dp/B00WVSNIEY/ref=sr_1_2_sspa?ie=UTF8&qid=1532194224&sr=8-2-spons&keywords=organic+valley+lowfat+milk&psc=1'\n",
    "nutrient = 'Vitamin A'"
   ]
  },
  {
   "cell_type": "markdown",
   "metadata": {
    "deletable": true,
    "editable": true
   },
   "source": [
    "Translate into query url"
   ]
  },
  {
   "cell_type": "code",
   "execution_count": 42,
   "metadata": {
    "collapsed": false,
    "deletable": true,
    "editable": true
   },
   "outputs": [],
   "source": [
    "# open Selenium webdriver in headless mode\n",
    "chrome_options = Options()\n",
    "chrome_options.add_argument(\"headless\")\n",
    "driver = webdriver.Chrome(chrome_options=chrome_options)\n",
    "\n",
    "# get the 'item title' html element from the amazon item page\n",
    "driver.get(amazon_url)\n",
    "product_title = driver.find_element_by_xpath('//*[@id=\"productTitle\"]').text\n",
    "\n",
    "# parse the product title to a smarter lookup query\n",
    "# TODO: implement this\n",
    "product_title = product_title.replace(',', '').replace('%', '')\n",
    "\n",
    "# amazon url to lookup\n",
    "lookup = product_title \n",
    "\n",
    "# the query url\n",
    "query_url = 'https://ndb.nal.usda.gov/ndb/search/list?SYNCHRONIZER_TOKEN=22d50fc9-d900-4447-afa8-cda5f67ea1e5&SYNCHRONIZER_URI=%2Fndb%2Fsearch%2Flist&qt=&qlookup={}'.format(lookup)"
   ]
  },
  {
   "cell_type": "markdown",
   "metadata": {
    "deletable": true,
    "editable": true
   },
   "source": [
    "Extract the NBD id of the best hit of the query"
   ]
  },
  {
   "cell_type": "code",
   "execution_count": 43,
   "metadata": {
    "collapsed": false,
    "deletable": true,
    "editable": true
   },
   "outputs": [],
   "source": [
    "# go to the page\n",
    "driver.get(query_url)\n",
    "\n",
    "# find the first nbd_id in the query\n",
    "nbd_id = driver.find_element_by_xpath('//*[@id=\"quickform\"]/div[4]/table/tbody/tr[1]/td[2]/a').text"
   ]
  },
  {
   "cell_type": "markdown",
   "metadata": {
    "collapsed": false,
    "deletable": true,
    "editable": true
   },
   "source": [
    "Use the NBD id to get the full nutrient report from the USDA website"
   ]
  },
  {
   "cell_type": "code",
   "execution_count": 44,
   "metadata": {
    "collapsed": false,
    "deletable": true,
    "editable": true
   },
   "outputs": [
    {
     "name": "stdout",
     "output_type": "stream",
     "text": [
      "https://api.nal.usda.gov/ndb/reports/?ndbno=45289703&type=f&format=json&api_key=2RKrTS6ad7iBE5RapN91xfUguREfFsebWNnDer1X\n"
     ]
    }
   ],
   "source": [
    "import json\n",
    "api_url = \"https://api.nal.usda.gov/ndb/reports/?ndbno={}&type=f&format=json&api_key=2RKrTS6ad7iBE5RapN91xfUguREfFsebWNnDer1X\".format(nbd_id)\n",
    "print(api_url)\n",
    "# submit query\n",
    "driver.get(api_url)\n",
    "\n",
    "# get the response\n",
    "soup = BeautifulSoup(driver.page_source, \"lxml\")\n",
    "json_response = json.loads(soup.find(\"body\").text)"
   ]
  },
  {
   "cell_type": "code",
   "execution_count": 45,
   "metadata": {
    "collapsed": false
   },
   "outputs": [
    {
     "data": {
      "text/plain": [
       "{'report': {'food': {'ds': 'Label Insight',\n",
       "   'ing': {'desc': 'LOWFAT MILK, SUGAR, COCOA (PROCESSED WITH ALKALI), SALT, CARRAGEENAN, VITAMIN A PALMITATE, VITAMIN D3.',\n",
       "    'upd': '07/14/2017'},\n",
       "   'manu': 'Super Store Industries',\n",
       "   'name': '1% MILK FAT CHOCOLATE LOW FAT MILK, UPC: 717544205074',\n",
       "   'ndbno': '45289703',\n",
       "   'nutrients': [{'derivation': 'LCCS',\n",
       "     'group': 'Proximates',\n",
       "     'measures': [{'eqv': 240.0,\n",
       "       'eunit': 'ml',\n",
       "       'label': 'cup',\n",
       "       'qty': 1.0,\n",
       "       'value': '161'}],\n",
       "     'name': 'Energy',\n",
       "     'nutrient_id': '208',\n",
       "     'unit': 'kcal',\n",
       "     'value': '67'},\n",
       "    {'derivation': 'LCCS',\n",
       "     'group': 'Proximates',\n",
       "     'measures': [{'eqv': 240.0,\n",
       "       'eunit': 'ml',\n",
       "       'label': 'cup',\n",
       "       'qty': 1.0,\n",
       "       'value': '9.00'}],\n",
       "     'name': 'Protein',\n",
       "     'nutrient_id': '203',\n",
       "     'unit': 'g',\n",
       "     'value': '3.75'},\n",
       "    {'derivation': 'LCCS',\n",
       "     'group': 'Proximates',\n",
       "     'measures': [{'eqv': 240.0,\n",
       "       'eunit': 'ml',\n",
       "       'label': 'cup',\n",
       "       'qty': 1.0,\n",
       "       'value': '2.50'}],\n",
       "     'name': 'Total lipid (fat)',\n",
       "     'nutrient_id': '204',\n",
       "     'unit': 'g',\n",
       "     'value': '1.04'},\n",
       "    {'derivation': 'LCCS',\n",
       "     'group': 'Proximates',\n",
       "     'measures': [{'eqv': 240.0,\n",
       "       'eunit': 'ml',\n",
       "       'label': 'cup',\n",
       "       'qty': 1.0,\n",
       "       'value': '25.99'}],\n",
       "     'name': 'Carbohydrate, by difference',\n",
       "     'nutrient_id': '205',\n",
       "     'unit': 'g',\n",
       "     'value': '10.83'},\n",
       "    {'derivation': 'LCCD',\n",
       "     'group': 'Proximates',\n",
       "     'measures': [{'eqv': 240.0,\n",
       "       'eunit': 'ml',\n",
       "       'label': 'cup',\n",
       "       'qty': 1.0,\n",
       "       'value': '0.0'}],\n",
       "     'name': 'Fiber, total dietary',\n",
       "     'nutrient_id': '291',\n",
       "     'unit': 'g',\n",
       "     'value': '0.0'},\n",
       "    {'derivation': 'LCCS',\n",
       "     'group': 'Proximates',\n",
       "     'measures': [{'eqv': 240.0,\n",
       "       'eunit': 'ml',\n",
       "       'label': 'cup',\n",
       "       'qty': 1.0,\n",
       "       'value': '25.01'}],\n",
       "     'name': 'Sugars, total',\n",
       "     'nutrient_id': '269',\n",
       "     'unit': 'g',\n",
       "     'value': '10.42'},\n",
       "    {'derivation': 'LCCD',\n",
       "     'group': 'Minerals',\n",
       "     'measures': [{'eqv': 240.0,\n",
       "       'eunit': 'ml',\n",
       "       'label': 'cup',\n",
       "       'qty': 1.0,\n",
       "       'value': '300'}],\n",
       "     'name': 'Calcium, Ca',\n",
       "     'nutrient_id': '301',\n",
       "     'unit': 'mg',\n",
       "     'value': '125'},\n",
       "    {'derivation': 'LCCD',\n",
       "     'group': 'Minerals',\n",
       "     'measures': [{'eqv': 240.0,\n",
       "       'eunit': 'ml',\n",
       "       'label': 'cup',\n",
       "       'qty': 1.0,\n",
       "       'value': '0.00'}],\n",
       "     'name': 'Iron, Fe',\n",
       "     'nutrient_id': '303',\n",
       "     'unit': 'mg',\n",
       "     'value': '0.00'},\n",
       "    {'derivation': 'LCCS',\n",
       "     'group': 'Minerals',\n",
       "     'measures': [{'eqv': 240.0,\n",
       "       'eunit': 'ml',\n",
       "       'label': 'cup',\n",
       "       'qty': 1.0,\n",
       "       'value': '221'}],\n",
       "     'name': 'Sodium, Na',\n",
       "     'nutrient_id': '307',\n",
       "     'unit': 'mg',\n",
       "     'value': '92'},\n",
       "    {'derivation': 'LCCD',\n",
       "     'group': 'Vitamins',\n",
       "     'measures': [{'eqv': 240.0,\n",
       "       'eunit': 'ml',\n",
       "       'label': 'cup',\n",
       "       'qty': 1.0,\n",
       "       'value': '0.0'}],\n",
       "     'name': 'Vitamin C, total ascorbic acid',\n",
       "     'nutrient_id': '401',\n",
       "     'unit': 'mg',\n",
       "     'value': '0.0'},\n",
       "    {'derivation': 'LCCD',\n",
       "     'group': 'Vitamins',\n",
       "     'measures': [{'eqv': 240.0,\n",
       "       'eunit': 'ml',\n",
       "       'label': 'cup',\n",
       "       'qty': 1.0,\n",
       "       'value': '499'}],\n",
       "     'name': 'Vitamin A, IU',\n",
       "     'nutrient_id': '318',\n",
       "     'unit': 'IU',\n",
       "     'value': '208'},\n",
       "    {'derivation': 'LCCD',\n",
       "     'group': 'Vitamins',\n",
       "     'measures': [{'eqv': 240.0,\n",
       "       'eunit': 'ml',\n",
       "       'label': 'cup',\n",
       "       'qty': 1.0,\n",
       "       'value': '101'}],\n",
       "     'name': 'Vitamin D',\n",
       "     'nutrient_id': '324',\n",
       "     'unit': 'IU',\n",
       "     'value': '42'},\n",
       "    {'derivation': 'LCCS',\n",
       "     'group': 'Lipids',\n",
       "     'measures': [{'eqv': 240.0,\n",
       "       'eunit': 'ml',\n",
       "       'label': 'cup',\n",
       "       'qty': 1.0,\n",
       "       'value': '1.488'}],\n",
       "     'name': 'Fatty acids, total saturated',\n",
       "     'nutrient_id': '606',\n",
       "     'unit': 'g',\n",
       "     'value': '0.620'},\n",
       "    {'derivation': 'LCCS',\n",
       "     'group': 'Lipids',\n",
       "     'measures': [{'eqv': 240.0,\n",
       "       'eunit': 'ml',\n",
       "       'label': 'cup',\n",
       "       'qty': 1.0,\n",
       "       'value': '0.000'}],\n",
       "     'name': 'Fatty acids, total trans',\n",
       "     'nutrient_id': '605',\n",
       "     'unit': 'g',\n",
       "     'value': '0.000'},\n",
       "    {'derivation': 'LCCS',\n",
       "     'group': 'Lipids',\n",
       "     'measures': [{'eqv': 240.0,\n",
       "       'eunit': 'ml',\n",
       "       'label': 'cup',\n",
       "       'qty': 1.0,\n",
       "       'value': '10'}],\n",
       "     'name': 'Cholesterol',\n",
       "     'nutrient_id': '601',\n",
       "     'unit': 'mg',\n",
       "     'value': '4'}],\n",
       "   'ru': 'ml'},\n",
       "  'footnotes': [],\n",
       "  'sr': 'v0.0 June, 2018',\n",
       "  'type': 'Basic'}}"
      ]
     },
     "execution_count": 45,
     "metadata": {},
     "output_type": "execute_result"
    }
   ],
   "source": [
    "json_response"
   ]
  },
  {
   "cell_type": "code",
   "execution_count": 39,
   "metadata": {
    "code_folding": [],
    "collapsed": false,
    "deletable": true,
    "editable": true
   },
   "outputs": [
    {
     "name": "stdout",
     "output_type": "stream",
     "text": [
      "208\n",
      "The nutrient is present.\n",
      "CPU times: user 636 µs, sys: 714 µs, total: 1.35 ms\n",
      "Wall time: 726 µs\n"
     ]
    }
   ],
   "source": [
    "%%time\n",
    "for ntr in json_response['report']['food']['nutrients']:\n",
    "    if nutrient in ntr['name']:\n",
    "        print(ntr['value'])\n",
    "        if float(ntr['value']) > 0:\n",
    "            print('The nutrient is present.')\n",
    "        else:\n",
    "            print('The nutrient is absent.')"
   ]
  },
  {
   "cell_type": "code",
   "execution_count": null,
   "metadata": {
    "collapsed": true,
    "deletable": true,
    "editable": true
   },
   "outputs": [],
   "source": []
  }
 ],
 "metadata": {
  "kernelspec": {
   "display_name": "Python 3",
   "language": "python",
   "name": "python3"
  },
  "language_info": {
   "codemirror_mode": {
    "name": "ipython",
    "version": 3
   },
   "file_extension": ".py",
   "mimetype": "text/x-python",
   "name": "python",
   "nbconvert_exporter": "python",
   "pygments_lexer": "ipython3",
   "version": "3.5.2"
  },
  "varInspector": {
   "cols": {
    "lenName": 16,
    "lenType": 16,
    "lenVar": 40
   },
   "kernels_config": {
    "python": {
     "delete_cmd_postfix": "",
     "delete_cmd_prefix": "del ",
     "library": "var_list.py",
     "varRefreshCmd": "print(var_dic_list())"
    },
    "r": {
     "delete_cmd_postfix": ") ",
     "delete_cmd_prefix": "rm(",
     "library": "var_list.r",
     "varRefreshCmd": "cat(var_dic_list()) "
    }
   },
   "types_to_exclude": [
    "module",
    "function",
    "builtin_function_or_method",
    "instance",
    "_Feature"
   ],
   "window_display": false
  }
 },
 "nbformat": 4,
 "nbformat_minor": 2
}
